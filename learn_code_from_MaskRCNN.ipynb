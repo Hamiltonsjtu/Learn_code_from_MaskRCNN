{
 "cells": [
  {
   "cell_type": "code",
   "execution_count": 1,
   "metadata": {},
   "outputs": [
    {
     "name": "stderr",
     "output_type": "stream",
     "text": [
      "Using TensorFlow backend.\n"
     ]
    }
   ],
   "source": [
    "import os\n",
    "import sys\n",
    "import itertools\n",
    "import math\n",
    "import logging\n",
    "import json\n",
    "import re\n",
    "import random\n",
    "from collections import OrderedDict\n",
    "import numpy as np\n",
    "import matplotlib\n",
    "import matplotlib.pyplot as plt\n",
    "import matplotlib.patches as patches\n",
    "import matplotlib.lines as lines\n",
    "from matplotlib.patches import Polygon\n",
    "\n",
    "# Root directory of the project\n",
    "ROOT_DIR = os.path.abspath(\"E:/shuai/Mask_RCNN-master\")\n",
    "\n",
    "# Import Mask RCNN\n",
    "sys.path.append(ROOT_DIR)  # To find local version of the library\n",
    "from mrcnn import utils\n",
    "from mrcnn import visualize\n",
    "from mrcnn.visualize import display_images\n",
    "import mrcnn.model as modellib\n",
    "from mrcnn.model import log\n",
    "\n",
    "from samples.balloon import balloon"
   ]
  },
  {
   "cell_type": "code",
   "execution_count": 2,
   "metadata": {},
   "outputs": [
    {
     "name": "stdout",
     "output_type": "stream",
     "text": [
      "E:\\shuai\\Mask_RCNN-master\\balloon_dataset\\balloon\n"
     ]
    }
   ],
   "source": [
    "config = balloon.BalloonConfig()\n",
    "BALLOON_DIR = os.path.join(ROOT_DIR, \"balloon_dataset\", \"balloon\")\n",
    "print(BALLOON_DIR)"
   ]
  },
  {
   "cell_type": "code",
   "execution_count": 16,
   "metadata": {},
   "outputs": [
    {
     "name": "stdout",
     "output_type": "stream",
     "text": [
      "Image Count: 61\n",
      "Class Count: 2\n",
      "  0. BG                                                \n",
      "  1. balloon                                           \n"
     ]
    }
   ],
   "source": [
    "# Load dataset\n",
    "# Get the dataset from the releases page\n",
    "# https://github.com/matterport/Mask_RCNN/releases\n",
    "dataset = balloon.BalloonDataset()\n",
    "dataset.load_balloon(BALLOON_DIR, \"train\")\n",
    "# Must call before using the dataset\n",
    "dataset.prepare()\n",
    "\n",
    "## see helps of dataset\n",
    "#===============scripts===================\n",
    "# dataset is a class BalloonDataset class\n",
    "# which inherit Father Class Dataset in utils\n",
    "# The code to prepare data can be used for the future work\n",
    "# details about the class of Dataset can be found in \n",
    "# https://github.com/matterport/Mask_RCNN/blob/master/mrcnn/utils.py\n",
    "#=========================================\n",
    "print(\"Image Count: {}\".format(len(dataset.image_ids)))\n",
    "print(\"Class Count: {}\".format(dataset.num_classes))\n",
    "for i, info in enumerate(dataset.class_info):\n",
    "    print(\"{:3}. {:50}\".format(i, info['name']))"
   ]
  },
  {
   "cell_type": "code",
   "execution_count": 12,
   "metadata": {},
   "outputs": [
    {
     "data": {
      "text/plain": [
       "-1"
      ]
     },
     "execution_count": 12,
     "metadata": {},
     "output_type": "execute_result"
    }
   ],
   "source": [
    "# Load and display random samples\n",
    "image_ids = np.random.choice(dataset.image_ids, 1)\n",
    "for image_id in image_ids:\n",
    "    image = dataset.load_image(image_id)\n",
    "#     mask, class_ids = dataset.load_mask(image_id)\n",
    "#     visualize.display_top_masks(image, mask, class_ids, dataset.class_names)\n",
    "# print(image)\n",
    "import cv2.cv2 as cv2\n",
    "\n",
    "cv2.imshow('image',image)\n",
    "cv2.waitKey(0)\n",
    "# cv2.cv2.waitkey(0)\n",
    "# cv2.cv2.destroyAllWindows()\n",
    "# print(image)"
   ]
  },
  {
   "cell_type": "code",
   "execution_count": null,
   "metadata": {},
   "outputs": [],
   "source": [
    "cv2.ims"
   ]
  }
 ],
 "metadata": {
  "kernelspec": {
   "display_name": "Python [conda env:MaskRCNN] *",
   "language": "python",
   "name": "conda-env-MaskRCNN-py"
  },
  "language_info": {
   "codemirror_mode": {
    "name": "ipython",
    "version": 3
   },
   "file_extension": ".py",
   "mimetype": "text/x-python",
   "name": "python",
   "nbconvert_exporter": "python",
   "pygments_lexer": "ipython3",
   "version": "3.6.7"
  }
 },
 "nbformat": 4,
 "nbformat_minor": 2
}
